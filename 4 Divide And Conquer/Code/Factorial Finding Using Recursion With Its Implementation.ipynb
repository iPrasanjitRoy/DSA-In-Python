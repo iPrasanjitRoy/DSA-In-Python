{
 "cells": [
  {
   "cell_type": "code",
   "execution_count": 1,
   "id": "fb5b0ff7",
   "metadata": {},
   "outputs": [
    {
     "name": "stdout",
     "output_type": "stream",
     "text": [
      "The factorial of a given number is: 120\n"
     ]
    }
   ],
   "source": [
    "## Using the recursive approach\n",
    "## function definition\n",
    "## time complexity: O(n)\n",
    "def findFactorial(n):\n",
    "    ## base case condition\n",
    "    ## small problem\n",
    "    if n == 0 or n == 1:\n",
    "        return 1\n",
    "    else:\n",
    "        ## big problem\n",
    "        ## recursion \n",
    "        return n * findFactorial(n-1)\n",
    "\n",
    "\n",
    "## Driver code\n",
    "n = 5\n",
    "## function calling\n",
    "result = findFactorial(n)\n",
    "print(\"The factorial of a given number is:\", result)"
   ]
  },
  {
   "cell_type": "code",
   "execution_count": 2,
   "id": "e26b8ab7",
   "metadata": {},
   "outputs": [
    {
     "name": "stdout",
     "output_type": "stream",
     "text": [
      "The factorial of a given number is: 120\n"
     ]
    }
   ],
   "source": [
    "## Using the iterative approach\n",
    "## function definition\n",
    "## time complexity: O(n)\n",
    "def findFactorial(n):\n",
    "    result = 1\n",
    "    if n == 0 or n == 1:\n",
    "        return 1\n",
    "    else:\n",
    "        ## iterative approach\n",
    "        for i in range(2, n+1):\n",
    "            result = result * i\n",
    "        return result\n",
    "\n",
    "\n",
    "## Driver code\n",
    "n = 5\n",
    "## function calling\n",
    "result = findFactorial(n)\n",
    "print(\"The factorial of a given number is:\", result)"
   ]
  }
 ],
 "metadata": {
  "kernelspec": {
   "display_name": "Python 3",
   "language": "python",
   "name": "python3"
  },
  "language_info": {
   "codemirror_mode": {
    "name": "ipython",
    "version": 3
   },
   "file_extension": ".py",
   "mimetype": "text/x-python",
   "name": "python",
   "nbconvert_exporter": "python",
   "pygments_lexer": "ipython3",
   "version": "3.12.0"
  }
 },
 "nbformat": 4,
 "nbformat_minor": 5
}
