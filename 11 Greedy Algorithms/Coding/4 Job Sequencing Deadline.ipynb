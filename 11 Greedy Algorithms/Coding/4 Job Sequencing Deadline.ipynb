{
 "cells": [
  {
   "cell_type": "code",
   "execution_count": 1,
   "metadata": {},
   "outputs": [
    {
     "name": "stdout",
     "output_type": "stream",
     "text": [
      "['J3', 'J6', 'J7', 'J4', 'J1']\n"
     ]
    }
   ],
   "source": [
    "def jobScheduling(arr, max_job):\n",
    "    n = len(arr)\n",
    "    \n",
    "    # Sort jobs by decreasing profit\n",
    "    arr.sort(key=lambda x: x[2], reverse=True)\n",
    "    \n",
    "    # To keep track of free time slots\n",
    "    res = [False] * max_job\n",
    "    job = ['-1'] * max_job\n",
    "    \n",
    "    # Iterate through all given jobs\n",
    "    for i in range(n):\n",
    "        # Find a free slot for this job (starting from the last possible slot)\n",
    "        for j in range(min(max_job - 1, arr[i][1] - 1), -1, -1):\n",
    "            if not res[j]:\n",
    "                res[j] = True\n",
    "                job[j] = arr[i][0]\n",
    "                break\n",
    "    \n",
    "    print(job)\n",
    "\n",
    "arr = [['J1', 5, 50],\n",
    "       ['J2', 3, 60],\n",
    "       ['J3', 2, 70],\n",
    "       ['J4', 4, 55],\n",
    "       ['J5', 3, 65],\n",
    "       ['J6', 2, 75],\n",
    "       ['J7', 3, 90]]\n",
    "\n",
    "jobScheduling(arr, 5) "
   ]
  }
 ],
 "metadata": {
  "kernelspec": {
   "display_name": "Python 3",
   "language": "python",
   "name": "python3"
  },
  "language_info": {
   "codemirror_mode": {
    "name": "ipython",
    "version": 3
   },
   "file_extension": ".py",
   "mimetype": "text/x-python",
   "name": "python",
   "nbconvert_exporter": "python",
   "pygments_lexer": "ipython3",
   "version": "3.12.0"
  }
 },
 "nbformat": 4,
 "nbformat_minor": 2
}
