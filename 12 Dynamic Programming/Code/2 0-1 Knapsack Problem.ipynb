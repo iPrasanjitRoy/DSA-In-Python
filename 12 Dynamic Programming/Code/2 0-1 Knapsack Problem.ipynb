{
 "cells": [
  {
   "cell_type": "code",
   "execution_count": 2,
   "id": "db7fe19a",
   "metadata": {},
   "outputs": [
    {
     "name": "stdout",
     "output_type": "stream",
     "text": [
      "Maximum profit is: 8\n"
     ]
    }
   ],
   "source": [
    "## Time complexity - O(m*n) \n",
    "## Approach - Tabulation (Bottom-up manner) Dynamic Programming \n",
    "def knapSack(W, wt, val, n): \n",
    "    K = [[0 for x in range(W + 1)] for x in range(n + 1)] \n",
    "\n",
    "    # Build table K[][] in bottom up manner  \n",
    "    for i in range(n + 1): \n",
    "        for w in range(W + 1): \n",
    "            if i == 0 or w == 0: \n",
    "                K[i][w] = 0 \n",
    "            \n",
    "            # 2 <= 0/1 : False : Because 2 is greater than 1 \n",
    "            # 2 <= 2 : True \n",
    "            elif wt[i-1] <= w: \n",
    "                K[i][w] = max(val[i-1] + K[i-1][w-wt[i-1]], K[i-1][w])  \n",
    "                # K[i][w] = max(val[0] + K[0][w - 2], K[0][w]) : val -> profit \n",
    "                # K[1][2] = max(val[0] + K[0][2 - 2], K[0][2])  : 1 \n",
    "                # K[1][2] = max(1 + K[0][0], K[0][2]) \n",
    "                # K[0][0] is 0 (because a 0-weight knapsack holds no profit) &  K[0][2] is also 0 (no items were included before) \n",
    "                # K[1][2] = max(1 + 0, 0) = 1 \n",
    "            else:\n",
    "                K[i][w] = K[i-1][w] \n",
    "\n",
    "    return K[n][W]  \n",
    "\n",
    "# Driver code\n",
    "profit = [1, 2, 5, 6] \n",
    "# wt index's = [0 , 1, 2 , 3] \n",
    "wt = [2, 3, 4, 5] \n",
    "M = 8 \n",
    "n = len(profit) \n",
    "print(\"Maximum profit is:\",knapSack(M, wt, profit, n))    "
   ]
  }
 ],
 "metadata": {
  "kernelspec": {
   "display_name": "Python 3",
   "language": "python",
   "name": "python3"
  },
  "language_info": {
   "codemirror_mode": {
    "name": "ipython",
    "version": 3
   },
   "file_extension": ".py",
   "mimetype": "text/x-python",
   "name": "python",
   "nbconvert_exporter": "python",
   "pygments_lexer": "ipython3",
   "version": "3.12.0"
  }
 },
 "nbformat": 4,
 "nbformat_minor": 5
}
