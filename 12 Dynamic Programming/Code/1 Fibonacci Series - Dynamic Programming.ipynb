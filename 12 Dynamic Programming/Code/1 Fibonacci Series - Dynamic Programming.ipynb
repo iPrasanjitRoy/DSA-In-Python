{
  "cells": [
    {
      "cell_type": "markdown",
      "metadata": {
        "id": "yN7vMmkvAXQ-"
      },
      "source": [
        "**Approach: Simple Recursive Approach to calculate fib(n)**"
      ]
    },
    {
      "cell_type": "code",
      "execution_count": 1,
      "metadata": {
        "id": "1Hi8KDTC_DtG"
      },
      "outputs": [],
      "source": [
        "def fib(n):\n",
        "  ## base case condition \n",
        "  if n == 1 or n == 2:\n",
        "    result = 1\n",
        "  ## recurrence relation\n",
        "  else:\n",
        "    result = fib(n-1) + fib(n-2)\n",
        "  \n",
        "  return result "
      ]
    },
    {
      "cell_type": "code",
      "execution_count": 2,
      "metadata": {
        "colab": {
          "base_uri": "https://localhost:8080/"
        },
        "id": "QmEB8NcvAKGU",
        "outputId": "8710fbf8-3c5b-4372-eea7-867520e889cc"
      },
      "outputs": [
        {
          "data": {
            "text/plain": [
              "5"
            ]
          },
          "execution_count": 2,
          "metadata": {},
          "output_type": "execute_result"
        }
      ],
      "source": [
        "fib(5)"
      ]
    },
    {
      "cell_type": "code",
      "execution_count": 3,
      "metadata": {
        "colab": {
          "base_uri": "https://localhost:8080/"
        },
        "id": "m4A-PIfxALry",
        "outputId": "c3c257b3-4de0-42a4-aa94-93a5fb419bb0"
      },
      "outputs": [
        {
          "data": {
            "text/plain": [
              "102334155"
            ]
          },
          "execution_count": 3,
          "metadata": {},
          "output_type": "execute_result"
        }
      ],
      "source": [
        "fib(40)"
      ]
    },
    {
      "cell_type": "markdown",
      "metadata": {
        "id": "MXtqMoF9j2dy"
      },
      "source": [
        "**Inference: As we increase the value of n, the time required to execute the code is also increasing.**\n",
        "\n",
        "Why?\n",
        "\n",
        "Due to the overlapping subproblem."
      ]
    },
    {
      "cell_type": "markdown",
      "metadata": {
        "id": "kZAf4CibAeGH"
      },
      "source": [
        "**Memoization(Top Down Approach) using Dynamic Programming**\n",
        "\n",
        "Time Complexity: O(n)\n",
        "\n",
        "Space Complexity: O(n)"
      ]
    },
    {
      "cell_type": "code",
      "execution_count": 4,
      "metadata": {
        "id": "kmUiAdAUASfK"
      },
      "outputs": [],
      "source": [
        "def fib_topDown(n, memo):\n",
        "  ## storing of the results of function calls\n",
        "  if memo[n] is not None:\n",
        "    return memo[n] \n",
        "  ## computation of the function call\n",
        "  ## base case condition\n",
        "  if n==1 or n==2:\n",
        "    result = 1\n",
        "  else:\n",
        "    ## recursive function call\n",
        "    result = fib_topDown(n-1, memo) + fib_topDown(n-2, memo) \n",
        "  memo[n] = result \n",
        "  return result \n",
        "\n",
        "\n",
        "def fib_memo(n):\n",
        "  ## list to store the results of the function calls\n",
        "  ## avoid the overlapping subproblems \n",
        "  memo = [None] * (n+1) \n",
        "  return fib_topDown(n, memo) "
      ]
    },
    {
      "cell_type": "code",
      "execution_count": 5,
      "metadata": {
        "colab": {
          "base_uri": "https://localhost:8080/"
        },
        "id": "vJCapXKobwvc",
        "outputId": "2ec9c2d7-800e-4153-ae41-ceea0950da30"
      },
      "outputs": [
        {
          "data": {
            "text/plain": [
              "5"
            ]
          },
          "execution_count": 5,
          "metadata": {},
          "output_type": "execute_result"
        }
      ],
      "source": [
        "fib_memo(5)"
      ]
    },
    {
      "cell_type": "code",
      "execution_count": 6,
      "metadata": {
        "colab": {
          "base_uri": "https://localhost:8080/"
        },
        "id": "vDHq3EIhb0BZ",
        "outputId": "4f888e08-d968-48e5-dda2-2c9f34ec0f30"
      },
      "outputs": [
        {
          "data": {
            "text/plain": [
              "102334155"
            ]
          },
          "execution_count": 6,
          "metadata": {},
          "output_type": "execute_result"
        }
      ],
      "source": [
        "fib_memo(40)"
      ]
    },
    {
      "cell_type": "code",
      "execution_count": null,
      "metadata": {
        "colab": {
          "base_uri": "https://localhost:8080/"
        },
        "id": "kfbiIYQlk7BR",
        "outputId": "cc1d5aa6-ae09-4a2c-bc09-0c29b65dbfcb"
      },
      "outputs": [
        {
          "data": {
            "text/plain": [
              "354224848179261915075"
            ]
          },
          "execution_count": 7,
          "metadata": {},
          "output_type": "execute_result"
        }
      ],
      "source": [
        "fib_memo(100) "
      ]
    },
    {
      "cell_type": "markdown",
      "metadata": {
        "id": "SF6zvMGkc35N"
      },
      "source": [
        "**Because of too many recursive calls, we are getting an error**"
      ]
    },
    {
      "cell_type": "markdown",
      "metadata": {
        "id": "uxAsMpc-b-oJ"
      },
      "source": [
        "**Bottom Up Approach - Tabulation**"
      ]
    },
    {
      "cell_type": "markdown",
      "metadata": {
        "id": "K7RE39ykdBFp"
      },
      "source": [
        "**Here, there is no recursion**"
      ]
    },
    {
      "cell_type": "markdown",
      "metadata": {
        "id": "1gk-Ym3FmYVR"
      },
      "source": [
        "Time Complexity: O(n)\n",
        "\n",
        "Space Complexity: O(n)"
      ]
    },
    {
      "cell_type": "code",
      "execution_count": 8,
      "metadata": {
        "id": "Wac1lywgb1j_"
      },
      "outputs": [],
      "source": [
        "def fib_bottomUp(n): \n",
        "  ## base case condition\n",
        "  if n==1 or n==2:\n",
        "    return 1 \n",
        "\n",
        "  bottomUp = [None] * (n+1) \n",
        "  bottomUp[1] = 1 \n",
        "  bottomUp[2] = 1 \n",
        "  ## no recursion \n",
        "  for i in range(3, n+1):\n",
        "    bottomUp[i] = bottomUp[i-1] + bottomUp[i-2]\n",
        "  return bottomUp[n] "
      ]
    },
    {
      "cell_type": "code",
      "execution_count": 9,
      "metadata": {
        "colab": {
          "base_uri": "https://localhost:8080/"
        },
        "id": "0zw2auiacjJB",
        "outputId": "6e10d737-8613-49ae-e9af-0491b8957dea"
      },
      "outputs": [
        {
          "data": {
            "text/plain": [
              "5"
            ]
          },
          "execution_count": 9,
          "metadata": {},
          "output_type": "execute_result"
        }
      ],
      "source": [
        "fib_bottomUp(5)"
      ]
    },
    {
      "cell_type": "markdown",
      "metadata": {
        "id": "9j1-hbiYNQkk"
      },
      "source": [
        "**Space Optimisation in tabulation approach**"
      ]
    },
    {
      "cell_type": "markdown",
      "metadata": {
        "id": "kGQQjiU3mdIZ"
      },
      "source": [
        "Time Complexity: O(n)\n",
        "\n",
        "Space Complexity: O(1)"
      ]
    },
    {
      "cell_type": "code",
      "execution_count": 10,
      "metadata": {
        "colab": {
          "base_uri": "https://localhost:8080/"
        },
        "id": "MbKngTu4NTtB",
        "outputId": "505d3970-9c6f-4888-ad6b-b9134c06f46f"
      },
      "outputs": [
        {
          "name": "stdout",
          "output_type": "stream",
          "text": [
            "Fibonacci number for n is 33644764876431783266621612005107543310302148460680063906564769974680081442166662368155595513633734025582065332680836159373734790483865268263040892463056431887354544369559827491606602099884183933864652731300088830269235673613135117579297437854413752130520504347701602264758318906527890855154366159582987279682987510631200575428783453215515103870818298969791613127856265033195487140214287532698187962046936097879900350962302291026368131493195275630227837628441540360584402572114334961180023091208287046088923962328835461505776583271252546093591128203925285393434620904245248929403901706233888991085841065183173360437470737908552631764325733993712871937587746897479926305837065742830161637408969178426378624212835258112820516370298089332099905707920064367426202389783111470054074998459250360633560933883831923386783056136435351892133279732908133732642652633989763922723407882928177953580570993691049175470808931841056146322338217465637321248226383092103297701648054726243842374862411453093812206564914032751086643394517512161526545361333111314042436854805106765843493523836959653428071768775328348234345557366719731392746273629108210679280784718035329131176778924659089938635459327894523777674406192240337638674004021330343297496902028328145933418826817683893072003634795623117103101291953169794607632737589253530772552375943788434504067715555779056450443016640119462580972216729758615026968443146952034614932291105970676243268515992834709891284706740862008587135016260312071903172086094081298321581077282076353186624611278245537208532365305775956430072517744315051539600905168603220349163222640885248852433158051534849622434848299380905070483482449327453732624567755879089187190803662058009594743150052402532709746995318770724376825907419939632265984147498193609285223945039707165443156421328157688908058783183404917434556270520223564846495196112460268313970975069382648706613264507665074611512677522748621598642530711298441182622661057163515069260029861704945425047491378115154139941550671256271197133252763631939606902895650288268608362241082050562430701794976171121233066073310059947366875\n"
          ]
        }
      ],
      "source": [
        "##Method Definition\n",
        "def fib(n):\n",
        "  prev1 = 1\n",
        "  prev2 = 0\n",
        "\n",
        "  for i in range(2, n+1):\n",
        "    curr = prev1 + prev2\n",
        "    prev2 = prev1\n",
        "    prev1 = curr\n",
        "  return prev1\n",
        "\n",
        "##Driver code\n",
        "n = 10000\n",
        "res = fib(n)\n",
        "print(\"Fibonacci number for n is\", res) "
      ]
    }
  ],
  "metadata": {
    "colab": {
      "provenance": []
    },
    "kernelspec": {
      "display_name": "Python 3",
      "name": "python3"
    },
    "language_info": {
      "codemirror_mode": {
        "name": "ipython",
        "version": 3
      },
      "file_extension": ".py",
      "mimetype": "text/x-python",
      "name": "python",
      "nbconvert_exporter": "python",
      "pygments_lexer": "ipython3",
      "version": "3.12.0"
    }
  },
  "nbformat": 4,
  "nbformat_minor": 0
}
