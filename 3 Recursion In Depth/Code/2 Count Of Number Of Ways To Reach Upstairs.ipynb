{
 "cells": [
  {
   "cell_type": "code",
   "execution_count": 1,
   "id": "a479f9f4",
   "metadata": {},
   "outputs": [
    {
     "name": "stdout",
     "output_type": "stream",
     "text": [
      "Number of ways to reach upstairs is 5\n"
     ]
    }
   ],
   "source": [
    "## Helper method\n",
    "def helper(n):\n",
    "    if n <= 1:\n",
    "        return n\n",
    "    return helper(n-1) + helper(n-2)\n",
    "\n",
    "## function definition\n",
    "def countNumberOfWays(n):\n",
    "    return helper(n+1)\n",
    "\n",
    "## Driver code\n",
    "n = 4\n",
    "result = countNumberOfWays(n)\n",
    "print(\"Number of ways to reach upstairs is\",result)"
   ]
  }
 ],
 "metadata": {
  "kernelspec": {
   "display_name": "Python 3",
   "language": "python",
   "name": "python3"
  },
  "language_info": {
   "codemirror_mode": {
    "name": "ipython",
    "version": 3
   },
   "file_extension": ".py",
   "mimetype": "text/x-python",
   "name": "python",
   "nbconvert_exporter": "python",
   "pygments_lexer": "ipython3",
   "version": "3.12.0"
  }
 },
 "nbformat": 4,
 "nbformat_minor": 5
}
