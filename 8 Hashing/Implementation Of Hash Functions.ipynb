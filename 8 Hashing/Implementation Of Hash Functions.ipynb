{
  "cells": [
    {
      "cell_type": "markdown",
      "metadata": {
        "id": "OBgqczuvmbqI"
      },
      "source": [
        "**Implementation Of HashTable**\n"
      ]
    },
    {
      "cell_type": "code",
      "execution_count": 1,
      "metadata": {
        "id": "BfDTeLFWkUqc"
      },
      "outputs": [],
      "source": [
        "student_score = []\n",
        "with open(\"student_scores.csv\",\"r\") as f:\n",
        "    next(f)  # Skip the header line\n",
        "    for line in f:\n",
        "        tokens = line.split(',')\n",
        "        roll_num = tokens[0]\n",
        "        score = float(tokens[1])\n",
        "        student_score.append([roll_num,score])"
      ]
    },
    {
      "cell_type": "code",
      "execution_count": 2,
      "metadata": {
        "colab": {
          "base_uri": "https://localhost:8080/"
        },
        "id": "yydVxEMRlE48",
        "outputId": "d4b07c8e-fa7a-41af-9e41-b505d0bdab53"
      },
      "outputs": [
        {
          "data": {
            "text/plain": [
              "[['AI20MTECH12021', 56.0],\n",
              " ['AI20MTECH12013', 67.0],\n",
              " ['AI20MTECH14010', 78.0],\n",
              " ['AI20MTECH14011', 89.0],\n",
              " ['AI20MTECH14012', 45.0],\n",
              " ['AI20MTECH14015', 62.0],\n",
              " ['AI20MTECH14016', 92.0],\n",
              " ['AI20MTECH14017', 78.0],\n",
              " ['AI20MTECH14018', 57.0]]"
            ]
          },
          "execution_count": 2,
          "metadata": {},
          "output_type": "execute_result"
        }
      ],
      "source": [
        "student_score"
      ]
    },
    {
      "cell_type": "code",
      "execution_count": 3,
      "metadata": {
        "colab": {
          "base_uri": "https://localhost:8080/"
        },
        "id": "MBBg_Y-DlKfP",
        "outputId": "4f36a33d-d042-49bb-a265-fe02d0da8fc5"
      },
      "outputs": [
        {
          "data": {
            "text/plain": [
              "['AI20MTECH14012', 45.0]"
            ]
          },
          "execution_count": 3,
          "metadata": {},
          "output_type": "execute_result"
        }
      ],
      "source": [
        "student_score[4]"
      ]
    },
    {
      "cell_type": "code",
      "execution_count": 4,
      "metadata": {
        "colab": {
          "base_uri": "https://localhost:8080/"
        },
        "id": "Y-i-zwDT1ChB",
        "outputId": "b9026733-ae63-4192-c866-8120173e727e"
      },
      "outputs": [
        {
          "data": {
            "text/plain": [
              "['AI20MTECH12021', 56.0]"
            ]
          },
          "execution_count": 4,
          "metadata": {},
          "output_type": "execute_result"
        }
      ],
      "source": [
        "student_score[0]"
      ]
    },
    {
      "cell_type": "markdown",
      "metadata": {
        "id": "yWQNOq0al7ya"
      },
      "source": [
        "**Find The Score Of Student Having Roll Number 'AI20MTECH14015'**"
      ]
    },
    {
      "cell_type": "code",
      "execution_count": 5,
      "metadata": {
        "colab": {
          "base_uri": "https://localhost:8080/"
        },
        "id": "jO03kqo4l15n",
        "outputId": "d15593d3-c305-4d29-fd9a-652efc44b3c1"
      },
      "outputs": [
        {
          "name": "stdout",
          "output_type": "stream",
          "text": [
            "62.0\n"
          ]
        }
      ],
      "source": [
        "## loop \n",
        "for records in student_score:\n",
        "  ## comparison\n",
        "  if records[0] == 'AI20MTECH14015':\n",
        "    print(records[1])"
      ]
    },
    {
      "cell_type": "markdown",
      "metadata": {
        "id": "320Sm6oSmPWV"
      },
      "source": [
        "**Time Complexity Of Getting The Score Of A Particular Student is O(n)**"
      ]
    },
    {
      "cell_type": "markdown",
      "metadata": {
        "id": "KwuDecKcmrhX"
      },
      "source": [
        "**Implementation Of Above Task Using Python Dictionary**"
      ]
    },
    {
      "cell_type": "code",
      "execution_count": 6,
      "metadata": {
        "id": "hQBNx5LdmMtl"
      },
      "outputs": [],
      "source": [
        "student_data = {} \n",
        "with open(\"student_scores.csv\",\"r\") as f:\n",
        "  next(f)  # Skip the header line\n",
        "  for line in f:\n",
        "    tokens = line.split(',')\n",
        "    roll_num = tokens[0]\n",
        "    score = float(tokens[1])\n",
        "    student_data[roll_num] = score"
      ]
    },
    {
      "cell_type": "code",
      "execution_count": 7,
      "metadata": {
        "colab": {
          "base_uri": "https://localhost:8080/"
        },
        "id": "8IPNLnw-nJ7d",
        "outputId": "23e66690-411a-4ac7-9118-ca28d37bb066"
      },
      "outputs": [
        {
          "data": {
            "text/plain": [
              "{'AI20MTECH12021': 56.0,\n",
              " 'AI20MTECH12013': 67.0,\n",
              " 'AI20MTECH14010': 78.0,\n",
              " 'AI20MTECH14011': 89.0,\n",
              " 'AI20MTECH14012': 45.0,\n",
              " 'AI20MTECH14015': 62.0,\n",
              " 'AI20MTECH14016': 92.0,\n",
              " 'AI20MTECH14017': 78.0,\n",
              " 'AI20MTECH14018': 57.0}"
            ]
          },
          "execution_count": 7,
          "metadata": {},
          "output_type": "execute_result"
        }
      ],
      "source": [
        "student_data"
      ]
    },
    {
      "cell_type": "code",
      "execution_count": 8,
      "metadata": {
        "colab": {
          "base_uri": "https://localhost:8080/"
        },
        "id": "Fdi-dSXnnLQ8",
        "outputId": "dade85be-b1dc-40c6-c300-cd592d193967"
      },
      "outputs": [
        {
          "data": {
            "text/plain": [
              "62.0"
            ]
          },
          "execution_count": 8,
          "metadata": {},
          "output_type": "execute_result"
        }
      ],
      "source": [
        "student_data['AI20MTECH14015']"
      ]
    },
    {
      "cell_type": "markdown",
      "metadata": {
        "id": "624YublUnYfb"
      },
      "source": [
        "**Time Complexity Of Getting The Score Of A Particular Student is O(1)**"
      ]
    },
    {
      "cell_type": "markdown",
      "metadata": {
        "id": "9LbU3GcNnl3m"
      },
      "source": [
        "**Internal Implementation of Python Dictionary - Hashing Data Structure**"
      ]
    },
    {
      "cell_type": "markdown",
      "metadata": {
        "id": "P51zDesE3btJ"
      },
      "source": [
        "**ord Function in Python Returns The ASCII Value Of Every Character**"
      ]
    },
    {
      "cell_type": "code",
      "execution_count": 9,
      "metadata": {
        "colab": {
          "base_uri": "https://localhost:8080/"
        },
        "id": "-giVB2Nd3W27",
        "outputId": "12e2f109-b925-48e6-b8ff-a9a30f7b21b9"
      },
      "outputs": [
        {
          "data": {
            "text/plain": [
              "100"
            ]
          },
          "execution_count": 9,
          "metadata": {},
          "output_type": "execute_result"
        }
      ],
      "source": [
        "ord('d')"
      ]
    },
    {
      "cell_type": "code",
      "execution_count": 10,
      "metadata": {
        "colab": {
          "base_uri": "https://localhost:8080/"
        },
        "id": "zVuaMJrL3aB9",
        "outputId": "9a78d105-b4e9-45a3-fdc2-25728104237c"
      },
      "outputs": [
        {
          "data": {
            "text/plain": [
              "65"
            ]
          },
          "execution_count": 10,
          "metadata": {},
          "output_type": "execute_result"
        }
      ],
      "source": [
        "ord('A')"
      ]
    },
    {
      "cell_type": "code",
      "execution_count": 11,
      "metadata": {
        "id": "etQHbPvfDyw2"
      },
      "outputs": [],
      "source": [
        "## Modulo Hash Function\n",
        "def get_hash(self, key):\n",
        "  hash = 0\n",
        "  for char in key:\n",
        "  ## ord function in python helps us to get ascii value of \n",
        "  ## any character\n",
        "    hash += ord(char)\n",
        "  return hash % self.MAX"
      ]
    },
    {
      "cell_type": "code",
      "execution_count": 12,
      "metadata": {
        "id": "Nxzi9elqnTWu"
      },
      "outputs": [],
      "source": [
        "class HashTable:  \n",
        "    def __init__(self):\n",
        "        self.MAX = 10\n",
        "        ## List Comprehension - Initializes a list (self.arr) of size 10 with all elements as None.\n",
        "        self.arr = [None for i in range(self.MAX)] \n",
        "\n",
        "    ## Method to calculate the hash function for a given value \n",
        "    def get_hash(self, key):\n",
        "        hash = 0\n",
        "        for char in key:\n",
        "            ## ord function in python helps us to get ascii value of \n",
        "            ## any character\n",
        "            hash += ord(char)\n",
        "        return hash % self.MAX\n",
        "    \n",
        "\n",
        "    ## Method definition of standard operators as functions in Python\n",
        "    ## getitem - to fetch the value of given index inside hash table\n",
        "    def __getitem__(self, index):\n",
        "        h = self.get_hash(index)\n",
        "        return self.arr[h]\n",
        "\n",
        "\n",
        "    ## setitem - to set the value corresponding to key inside hash table\n",
        "    def __setitem__(self, key, val):\n",
        "        h = self.get_hash(key)\n",
        "        self.arr[h] = val  \n",
        "          \n",
        "          \n",
        "    ## delitem - to delete the values inside the hash table for a given key  \n",
        "    def __delitem__(self, key):\n",
        "        h = self.get_hash(key)\n",
        "        self.arr[h] = None"
      ]
    },
    {
      "cell_type": "code",
      "execution_count": 13,
      "metadata": {
        "id": "L2_mFtMXsxSL"
      },
      "outputs": [],
      "source": [
        "h = HashTable()\n",
        "## setitem funcion called\n",
        "## Internally  : h.__setitem__('AI20MTECH14015', 60)\n",
        "h['AI20MTECH14015'] = 60\n",
        "h['AI20MTECH15092'] = 70\n",
        "#h['AI20MTECH12013'] = 20"
      ]
    },
    {
      "cell_type": "code",
      "execution_count": 14,
      "metadata": {
        "colab": {
          "base_uri": "https://localhost:8080/"
        },
        "id": "YGeLUEUvtBxn",
        "outputId": "cfa4cad3-50a7-4314-b10a-bf57a44f4259"
      },
      "outputs": [
        {
          "data": {
            "text/plain": [
              "[None, None, 70, None, None, None, 60, None, None, None]"
            ]
          },
          "execution_count": 14,
          "metadata": {},
          "output_type": "execute_result"
        }
      ],
      "source": [
        "h.arr"
      ]
    },
    {
      "cell_type": "code",
      "execution_count": 15,
      "metadata": {
        "colab": {
          "base_uri": "https://localhost:8080/"
        },
        "id": "bGlpET4fJ1h2",
        "outputId": "c818a77b-f5fc-4ddd-f447-795c8dc882c1"
      },
      "outputs": [
        {
          "data": {
            "text/plain": [
              "60"
            ]
          },
          "execution_count": 15,
          "metadata": {},
          "output_type": "execute_result"
        }
      ],
      "source": [
        "h['AI20MTECH14015']"
      ]
    },
    {
      "cell_type": "code",
      "execution_count": 16,
      "metadata": {
        "colab": {
          "base_uri": "https://localhost:8080/"
        },
        "id": "C0p7RglJtDRL",
        "outputId": "87d066c9-bbe4-41fc-f664-74f98209dbaf"
      },
      "outputs": [
        {
          "data": {
            "text/plain": [
              "6"
            ]
          },
          "execution_count": 16,
          "metadata": {},
          "output_type": "execute_result"
        }
      ],
      "source": [
        "h.get_hash('AI20MTECH14015')"
      ]
    },
    {
      "cell_type": "code",
      "execution_count": 17,
      "metadata": {
        "colab": {
          "base_uri": "https://localhost:8080/"
        },
        "id": "AtNMzdP0Gg83",
        "outputId": "7451a98b-158c-4e8d-85a4-908d22a875ef"
      },
      "outputs": [
        {
          "data": {
            "text/plain": [
              "2"
            ]
          },
          "execution_count": 17,
          "metadata": {},
          "output_type": "execute_result"
        }
      ],
      "source": [
        "h.get_hash('AI20MTECH15092')"
      ]
    },
    {
      "cell_type": "code",
      "execution_count": 18,
      "metadata": {
        "id": "Bsq3rykttTn5"
      },
      "outputs": [],
      "source": [
        "## delitem method is called\n",
        "del h['AI20MTECH14015']"
      ]
    },
    {
      "cell_type": "code",
      "execution_count": 19,
      "metadata": {
        "colab": {
          "base_uri": "https://localhost:8080/"
        },
        "id": "_IYbKTzGtjNF",
        "outputId": "5727727e-6b4f-4ccf-fd7a-e899a4725c69"
      },
      "outputs": [
        {
          "data": {
            "text/plain": [
              "[None, None, 70, None, None, None, None, None, None, None]"
            ]
          },
          "execution_count": 19,
          "metadata": {},
          "output_type": "execute_result"
        }
      ],
      "source": [
        "h.arr"
      ]
    },
    {
      "cell_type": "code",
      "execution_count": 20,
      "metadata": {
        "colab": {
          "base_uri": "https://localhost:8080/"
        },
        "id": "CFCuf-AhJNtI",
        "outputId": "4223e4f5-3117-4026-d30f-129ec6ac610e"
      },
      "outputs": [
        {
          "data": {
            "text/plain": [
              "2"
            ]
          },
          "execution_count": 20,
          "metadata": {},
          "output_type": "execute_result"
        }
      ],
      "source": [
        "h.get_hash('AI20MTECH12013')"
      ]
    },
    {
      "cell_type": "markdown",
      "metadata": {
        "id": "D7laG3TJ4vav"
      },
      "source": [
        "**AI20MTECH12013 and AI20MTECH15092 Both Contains The Same Key. So, Value Overrides Here**"
      ]
    },
    {
      "cell_type": "markdown",
      "metadata": {
        "id": "rgxdszMU44ni"
      },
      "source": [
        "**Concept Of Collision In Hashing**"
      ]
    },
    {
      "cell_type": "code",
      "execution_count": 21,
      "metadata": {
        "id": "FeCmP3RG9ZAb"
      },
      "outputs": [],
      "source": [
        "h['AI20MTECH12013'] = 20"
      ]
    },
    {
      "cell_type": "code",
      "execution_count": 22,
      "metadata": {
        "colab": {
          "base_uri": "https://localhost:8080/"
        },
        "id": "7y_tZm1u4oL4",
        "outputId": "8ebabb50-87f2-4ef7-beba-c5dc7bd8adbb"
      },
      "outputs": [
        {
          "data": {
            "text/plain": [
              "[None, None, 20, None, None, None, None, None, None, None]"
            ]
          },
          "execution_count": 22,
          "metadata": {},
          "output_type": "execute_result"
        }
      ],
      "source": [
        "h.arr"
      ]
    }
  ],
  "metadata": {
    "accelerator": "GPU",
    "colab": {
      "provenance": []
    },
    "kernelspec": {
      "display_name": "Python 3",
      "name": "python3"
    },
    "language_info": {
      "codemirror_mode": {
        "name": "ipython",
        "version": 3
      },
      "file_extension": ".py",
      "mimetype": "text/x-python",
      "name": "python",
      "nbconvert_exporter": "python",
      "pygments_lexer": "ipython3",
      "version": "3.12.0"
    }
  },
  "nbformat": 4,
  "nbformat_minor": 0
}
