{
 "cells": [
  {
   "cell_type": "code",
   "execution_count": 2,
   "metadata": {},
   "outputs": [
    {
     "name": "stdout",
     "output_type": "stream",
     "text": [
      "BFS Traversal:\n",
      "A B C D E F "
     ]
    }
   ],
   "source": [
    "from collections import deque\n",
    "\n",
    "def bfs(graph, start_node):\n",
    "    visited = set()  # To keep track of visited nodes\n",
    "    queue = deque([start_node])  # Initialize a queue with the start node\n",
    "\n",
    "    while queue:\n",
    "        node = queue.popleft()  # Dequeue a node from the front\n",
    "        if node not in visited:\n",
    "            print(node, end=\" \")  # Process the node (here, just printing it)\n",
    "            visited.add(node)  # Mark the node as visited\n",
    "            \n",
    "            # Add all unvisited neighbors to the queue\n",
    "            for neighbor in graph[node]:\n",
    "                if neighbor not in visited:\n",
    "                    queue.append(neighbor)\n",
    "\n",
    "# Example usage\n",
    "graph = {\n",
    "    'A': ['B', 'C'],\n",
    "    'B': ['D', 'E'],\n",
    "    'C': ['F'],\n",
    "    'D': [],\n",
    "    'E': ['F'],\n",
    "    'F': []\n",
    "}\n",
    "\n",
    "print(\"BFS Traversal:\")\n",
    "bfs(graph, 'A')\n"
   ]
  }
 ],
 "metadata": {
  "kernelspec": {
   "display_name": "Python 3",
   "language": "python",
   "name": "python3"
  },
  "language_info": {
   "codemirror_mode": {
    "name": "ipython",
    "version": 3
   },
   "file_extension": ".py",
   "mimetype": "text/x-python",
   "name": "python",
   "nbconvert_exporter": "python",
   "pygments_lexer": "ipython3",
   "version": "3.12.0"
  }
 },
 "nbformat": 4,
 "nbformat_minor": 2
}
