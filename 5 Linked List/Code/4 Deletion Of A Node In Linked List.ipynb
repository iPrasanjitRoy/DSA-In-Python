{
 "cells": [
  {
   "cell_type": "code",
   "execution_count": 1,
   "id": "0bf076b6",
   "metadata": {},
   "outputs": [
    {
     "name": "stdout",
     "output_type": "stream",
     "text": [
      "Original Linked List\n",
      "10  20  300  4000  5000  120  \n",
      "Linked List after deletion\n",
      "10  20  300  4000  120  "
     ]
    }
   ],
   "source": [
    "class Node:\n",
    "    def __init__(self, data):\n",
    "        self.data = data\n",
    "        self.next = None\n",
    "\n",
    "class LinkedList:\n",
    "    def __init__(self):\n",
    "        self.head = None\n",
    "    \n",
    "    ## insert at the end of the linked list\n",
    "    def insertAtEnd(self, new_data):\n",
    "        ## creation of the new node\n",
    "        new_node = Node(new_data)\n",
    "        \n",
    "        ## linked list is empty\n",
    "        if self.head is None:\n",
    "            self.head = new_node\n",
    "            return\n",
    "        \n",
    "        ## insertion at the end\n",
    "        temp = self.head\n",
    "        while temp.next:\n",
    "            temp = temp.next\n",
    "        \n",
    "        temp.next = new_node\n",
    "        \n",
    "    ## deleting a node inside the linked list\n",
    "    def deleteNode(self, pos):\n",
    "        ## linked list is empty or not\n",
    "        if self.head is None:\n",
    "            return\n",
    "        \n",
    "        temp = self.head\n",
    "        for i in range(pos-1):\n",
    "            temp = temp.next\n",
    "            if temp is None:\n",
    "                return\n",
    "        next_ptr = temp.next.next\n",
    "        temp.next = None\n",
    "        temp.next = next_ptr\n",
    "    \n",
    "    \n",
    "    ## print the linked list\n",
    "    def printList(self):\n",
    "        temp = self.head\n",
    "        while temp:\n",
    "            print(str(temp.data)+\" \",end=\" \")\n",
    "            temp = temp.next\n",
    "\n",
    "  \n",
    "            \n",
    "## Driver code\n",
    "llist = LinkedList()\n",
    "## function calling\n",
    "llist.insertAtEnd(10)\n",
    "llist.insertAtEnd(20)\n",
    "llist.insertAtEnd(300)\n",
    "llist.insertAtEnd(4000)\n",
    "llist.insertAtEnd(5000)\n",
    "llist.insertAtEnd(120)\n",
    "print(\"Original Linked List\")\n",
    "llist.printList()\n",
    "print()\n",
    "llist.deleteNode(4)\n",
    "print(\"Linked List after deletion\")\n",
    "llist.printList()"
   ]
  }
 ],
 "metadata": {
  "kernelspec": {
   "display_name": "Python 3",
   "language": "python",
   "name": "python3"
  },
  "language_info": {
   "codemirror_mode": {
    "name": "ipython",
    "version": 3
   },
   "file_extension": ".py",
   "mimetype": "text/x-python",
   "name": "python",
   "nbconvert_exporter": "python",
   "pygments_lexer": "ipython3",
   "version": "3.12.0"
  }
 },
 "nbformat": 4,
 "nbformat_minor": 5
}
