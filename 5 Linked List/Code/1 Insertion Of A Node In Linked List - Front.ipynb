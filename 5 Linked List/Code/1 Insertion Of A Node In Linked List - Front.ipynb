{
 "cells": [
  {
   "cell_type": "code",
   "execution_count": 2,
   "id": "65c24be1",
   "metadata": {},
   "outputs": [
    {
     "name": "stdout",
     "output_type": "stream",
     "text": [
      "50  5  1  10  "
     ]
    }
   ],
   "source": [
    "class Node:\n",
    "    def __init__(self, data):\n",
    "        self.data = data # Store the data value \n",
    "        self.next = None # Pointer to the next node (initially None)\n",
    "\n",
    "\n",
    "class LinkedList:\n",
    "    def __init__(self):\n",
    "        self.head = None # Initialize the head of the list as None\n",
    "    \n",
    "    ## insert at the front/beginning of the linked list\n",
    "    def insertAtBeginning(self, new_data):\n",
    "        ## creation of the new node\n",
    "        new_node = Node(new_data)\n",
    "        ## insertion at the beginning\n",
    "        new_node.next = self.head\n",
    "        self.head = new_node\n",
    "    \n",
    "    ## print the linked list\n",
    "    def printList(self):\n",
    "        temp = self.head\n",
    "        while temp:\n",
    "            print(str(temp.data)+\" \", end=\" \")\n",
    "            temp = temp.next\n",
    "\n",
    "## Driver code\n",
    "llist = LinkedList()\n",
    "## function calling\n",
    "llist.insertAtBeginning(10)\n",
    "llist.insertAtBeginning(1)\n",
    "llist.insertAtBeginning(5)\n",
    "llist.insertAtBeginning(50)\n",
    "llist.printList()"
   ]
  }
 ],
 "metadata": {
  "kernelspec": {
   "display_name": "Python 3",
   "language": "python",
   "name": "python3"
  },
  "language_info": {
   "codemirror_mode": {
    "name": "ipython",
    "version": 3
   },
   "file_extension": ".py",
   "mimetype": "text/x-python",
   "name": "python",
   "nbconvert_exporter": "python",
   "pygments_lexer": "ipython3",
   "version": "3.12.0"
  }
 },
 "nbformat": 4,
 "nbformat_minor": 5
}
