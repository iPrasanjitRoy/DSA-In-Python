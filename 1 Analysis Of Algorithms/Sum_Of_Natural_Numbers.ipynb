{
  "cells": [
    {
      "cell_type": "code",
      "execution_count": 1,
      "metadata": {
        "colab": {
          "base_uri": "https://localhost:8080/"
        },
        "id": "MCbdz_vKWJiR",
        "outputId": "edd3fbf8-ee19-4d32-b6d4-dd969c7e39f6"
      },
      "outputs": [
        {
          "name": "stdout",
          "output_type": "stream",
          "text": [
            "Sum Of Top 5 Natural Numbers is 15\n"
          ]
        }
      ],
      "source": [
        "def sum_of_numbers(lst):\n",
        "  total = 0\n",
        "  for i in range(len(lst)):\n",
        "    total = total + lst[i]\n",
        "  return total\n",
        "\n",
        "\n",
        "lst = [1, 2, 3, 4, 5]\n",
        "result = sum_of_numbers(lst)\n",
        "print(\"Sum Of Top 5 Natural Numbers is\", result)"
      ]
    },
    {
      "cell_type": "code",
      "execution_count": 2,
      "metadata": {
        "colab": {
          "base_uri": "https://localhost:8080/"
        },
        "id": "7h0xoJS3aQdX",
        "outputId": "bf30336b-e07f-4370-8180-2e51beb5855b"
      },
      "outputs": [
        {
          "name": "stdout",
          "output_type": "stream",
          "text": [
            "Sum Of Top 5 Natural Numbers is 15.0\n"
          ]
        }
      ],
      "source": [
        "def sum_of_numbers(lst):\n",
        "  n = len(lst)\n",
        "  total = (n * (n+1))/2\n",
        "  return total\n",
        "\n",
        "\n",
        "lst = [1, 2, 3, 4, 5]\n",
        "result = sum_of_numbers(lst)\n",
        "print(\"Sum Of Top 5 Natural Numbers is\", result)"
      ]
    }
  ],
  "metadata": {
    "colab": {
      "name": "Sum_Of_Natural_Numbers.ipynb",
      "provenance": []
    },
    "kernelspec": {
      "display_name": "Python 3",
      "name": "python3"
    },
    "language_info": {
      "codemirror_mode": {
        "name": "ipython",
        "version": 3
      },
      "file_extension": ".py",
      "mimetype": "text/x-python",
      "name": "python",
      "nbconvert_exporter": "python",
      "pygments_lexer": "ipython3",
      "version": "3.12.0"
    }
  },
  "nbformat": 4,
  "nbformat_minor": 0
}
